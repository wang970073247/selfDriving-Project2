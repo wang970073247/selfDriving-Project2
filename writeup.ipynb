{
 "cells": [
  {
   "cell_type": "markdown",
   "metadata": {},
   "source": [
    "# Traffic Sign Recognition\n",
    "Overview\n",
    "---\n",
    "\n",
    "The goals of this project are the following:\n",
    "* Build a convolutional neural network (CNN) using Tensorflow to classify traffic signs.\n",
    "* Reflect on my work in a written report\n",
    "\n",
    "Contents\n",
    "---\n",
    "**Build a Traffic Sign Recognition Project**\n",
    "\n",
    "The steps of this project are the following:\n",
    "\n",
    "* Load the data set (see below for links to the project data set)\n",
    "* Explore, summarize and visualize the data set\n",
    "* Design, train and test a model architecture\n",
    "* Use the model to make predictions on new images\n",
    "* Analyze the softmax probabilities of the new images\n",
    "* Summarize the results with a written report"
   ]
  },
  {
   "cell_type": "markdown",
   "metadata": {},
   "source": [
    "### Data Set Summary & Exploration\n",
    "I have used [German Traffic Sign Dataset](http://benchmark.ini.rub.de/?section=gtsrb&subsection=dataset) which includes 34799 training images,\n",
    "4410 valid images and 12630 test images, in addition the corresponding labels. And the color traffic images are with RGB channels. Here is a picture shows information about the traffic sign dataset:\n",
    "![](examples/image_info.png)\n",
    "Here is a random sample of images from each class : \n",
    "![](examples/traffic_image.png)\n",
    "\n",
    "There are a total of 43 classes or labels in the dataset. Here is the distribution of classes in training set : \n",
    "![](examples/traffic_image_distribution.png)\n",
    "It is a bar chart showing how this 43 classes distribute."
   ]
  },
  {
   "cell_type": "markdown",
   "metadata": {},
   "source": [
    "### Design and Test a Model Architecture\n",
    "#### 1. Normalize the image data.\n",
    "With the normalize funciton, Normalize a list of sample image data in the range of 0 to 1, input a list of image data whose shape is \n",
    "(32, 32, 3), return Numpy array of normalize data."
   ]
  },
  {
   "cell_type": "markdown",
   "metadata": {},
   "source": [
    "#### 2. CNN architecture\n",
    "The model I have chosen is inspired by LeNet architecture from Yan LeCun.\n",
    "![LeNet Architecture](examples/lenet.png)\n",
    "But i choose different output in the layer."
   ]
  },
  {
   "cell_type": "markdown",
   "metadata": {},
   "source": [
    "#### Input\n",
    "The LeNet architecture accepts a 32x32xC image as input, where C is the number of color channels.  C is 3 in this case.\n",
    "\n",
    "#### Architecture\n",
    "**Layer 1: Convolutional.** The output shape is 28x28x6.\n",
    "\n",
    "**Activation.** ReLu activation.\n",
    "\n",
    "**Pooling.** The output shape is 14x14x6.\n",
    "\n",
    "**Layer 2: Convolutional.** The output shape is 10x10x64.\n",
    "\n",
    "**Activation.** ReLu activation.\n",
    "\n",
    "**Pooling.** The output shape is 5x5x64.\n",
    "\n",
    "**Flatten.** Flatten the output shape of the final pooling layer such that it's 1D instead of 3D. I use `tf.contrib.layers.flatten`\n",
    "\n",
    "**Layer 3: Fully Connected.** This has 800 outputs.\n",
    "\n",
    "**Activation.** ReLu activation.\n",
    "\n",
    "**Layer 4: Fully Connected.** This should have 320 outputs.\n",
    "\n",
    "**Activation.** ReLu activation.\n",
    "\n",
    "**Layer 5: Fully Connected (Logits).** This has 43 outputs.\n",
    "\n",
    "#### Output\n",
    "Return the result of the 2nd fully connected layer."
   ]
  },
  {
   "cell_type": "markdown",
   "metadata": {},
   "source": [
    "My final model consisted of the following layers:\n",
    "![](examples/layer_layout.png)"
   ]
  },
  {
   "cell_type": "markdown",
   "metadata": {},
   "source": [
    "#### 3. Trained the model. \n",
    "To train the model, I choose Adam optimizer with learning rate = 0.006. I make batch size to 128 and epochs equal to 15.\n",
    "#### 4. Make better model\n",
    "At first, i used the Lenet architecture which has a better proformance in classfing grayscale images(incluing cars, birds, ...), but it seems not good enough on traffic signs classification, then i begin to try to exchange the CNN architecture, i make the CNN more bigger in output, and try kinds of learning rate and epochs, at the same time i used different functions to normalize the image data in the pre-process stage.\n",
    "In the last, I get validation set accuracy of 95.2%, test validation set accuracy of 92.9%"
   ]
  },
  {
   "cell_type": "markdown",
   "metadata": {},
   "source": [
    "### Test a Model on New Images\n",
    "#### 1. Choose 12 German traffic signs to test the model\n",
    "![](examples/new12image.png)\n",
    "\n",
    "#### 2. The model's predictions on these new traffic signs \n",
    "I think the image is very clear and it is easy for the model to predict, so i think the model should get 100% accuracy, in fact it is! It is great.\n",
    "Here are the results of the prediction:\n",
    "![](examples/new_image_pred.png)\n",
    "\n",
    "#### 3. Top 5 probabilities for each image\n",
    "Describe how certain the model is when predicting on each of the five new images by looking at the softmax probabilities for each prediction. Provide the top 5 softmax probabilities for each image along with the sign type of each probability\n",
    "![](examples/top_5.png)\n",
    "From the picture above, the classifier predicts the signs with a near 100% certainty."
   ]
  },
  {
   "cell_type": "code",
   "execution_count": null,
   "metadata": {
    "collapsed": true
   },
   "outputs": [],
   "source": []
  }
 ],
 "metadata": {
  "kernelspec": {
   "display_name": "Python 3",
   "language": "python",
   "name": "python3"
  },
  "language_info": {
   "codemirror_mode": {
    "name": "ipython",
    "version": 3
   },
   "file_extension": ".py",
   "mimetype": "text/x-python",
   "name": "python",
   "nbconvert_exporter": "python",
   "pygments_lexer": "ipython3",
   "version": "3.5.2"
  },
  "widgets": {
   "state": {},
   "version": "1.1.2"
  }
 },
 "nbformat": 4,
 "nbformat_minor": 2
}
